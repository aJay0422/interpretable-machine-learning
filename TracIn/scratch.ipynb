{
 "cells": [
  {
   "cell_type": "markdown",
   "source": [
    "# Import"
   ],
   "metadata": {
    "collapsed": false,
    "pycharm": {
     "name": "#%% md\n"
    }
   }
  },
  {
   "cell_type": "code",
   "execution_count": null,
   "outputs": [],
   "source": [
    "import numpy as np\n",
    "import torch\n",
    "import torch.nn as nn\n",
    "import matplotlib.pyplot as plt\n",
    "%matplotlib inline\n",
    "\n",
    "from data import prepare_CIFAR10\n",
    "from model import CNN_CIFAR10\n",
    "from utils import get_loss_acc"
   ],
   "metadata": {
    "collapsed": false,
    "pycharm": {
     "name": "#%%\n"
    }
   }
  },
  {
   "cell_type": "code",
   "execution_count": null,
   "outputs": [],
   "source": [],
   "metadata": {
    "collapsed": false,
    "pycharm": {
     "name": "#%%\n"
    }
   }
  },
  {
   "cell_type": "code",
   "execution_count": null,
   "outputs": [],
   "source": [],
   "metadata": {
    "collapsed": false,
    "pycharm": {
     "name": "#%%\n"
    }
   }
  },
  {
   "cell_type": "code",
   "execution_count": null,
   "outputs": [],
   "source": [],
   "metadata": {
    "collapsed": false,
    "pycharm": {
     "name": "#%%\n"
    }
   }
  },
  {
   "cell_type": "code",
   "execution_count": null,
   "outputs": [],
   "source": [],
   "metadata": {
    "collapsed": false,
    "pycharm": {
     "name": "#%%\n"
    }
   }
  },
  {
   "cell_type": "code",
   "execution_count": null,
   "outputs": [],
   "source": [],
   "metadata": {
    "collapsed": false,
    "pycharm": {
     "name": "#%%\n"
    }
   }
  },
  {
   "cell_type": "code",
   "execution_count": null,
   "outputs": [],
   "source": [],
   "metadata": {
    "collapsed": false,
    "pycharm": {
     "name": "#%%\n"
    }
   }
  },
  {
   "cell_type": "code",
   "execution_count": 67,
   "outputs": [
    {
     "name": "stdout",
     "output_type": "stream",
     "text": [
      "tensor([6])\n",
      "tensor([0])\n",
      "tensor([1])\n",
      "tensor([6])\n",
      "tensor([1])\n",
      "tensor([0])\n",
      "tensor([0])\n",
      "tensor([0])\n",
      "tensor([8])\n",
      "tensor([1])\n",
      "tensor([1])\n",
      "tensor([2])\n",
      "tensor([2])\n",
      "tensor([4])\n",
      "tensor([0])\n",
      "tensor([6])\n",
      "tensor([4])\n",
      "tensor([3])\n",
      "tensor([5])\n",
      "tensor([0])\n"
     ]
    }
   ],
   "source": [
    "count = 0\n",
    "for i, img in enumerate(X_val):\n",
    "    img = img.to(device)\n",
    "    label = Y_val[i].unsqueeze(0)\n",
    "    logits = net(img.unsqueeze(0))\n",
    "    Y_pred = torch.argmax(logits, dim=1)\n",
    "    print(Y_pred)\n",
    "    if i == 19:\n",
    "        break"
   ],
   "metadata": {
    "collapsed": false,
    "pycharm": {
     "name": "#%%\n"
    }
   }
  },
  {
   "cell_type": "code",
   "execution_count": 90,
   "outputs": [
    {
     "name": "stdout",
     "output_type": "stream",
     "text": [
      "tensor(6457)\n"
     ]
    }
   ],
   "source": [
    "with torch.no_grad():\n",
    "    net.eval()\n",
    "    logits = net(X_val.to(device))\n",
    "    Y_pred = torch.argmax(logits, dim=1)\n",
    "    print(torch.sum(Y_pred == Y_val))"
   ],
   "metadata": {
    "collapsed": false,
    "pycharm": {
     "name": "#%%\n"
    }
   }
  },
  {
   "cell_type": "code",
   "execution_count": 91,
   "outputs": [
    {
     "data": {
      "text/plain": "tensor([6, 0, 1, 6, 1, 0, 0, 4, 8, 1])"
     },
     "execution_count": 91,
     "metadata": {},
     "output_type": "execute_result"
    }
   ],
   "source": [
    "Y_pred[:10]"
   ],
   "metadata": {
    "collapsed": false,
    "pycharm": {
     "name": "#%%\n"
    }
   }
  },
  {
   "cell_type": "code",
   "execution_count": 92,
   "outputs": [
    {
     "name": "stdout",
     "output_type": "stream",
     "text": [
      "tensor([6, 0, 1, 6, 1, 0, 0, 4, 8, 1])\n"
     ]
    }
   ],
   "source": [
    "with torch.no_grad():\n",
    "    net.eval()\n",
    "    test_logits = net(X_val[0:10].to(device))\n",
    "    test_Y_pred = torch.argmax(test_logits, dim=1)\n",
    "    print(test_Y_pred)"
   ],
   "metadata": {
    "collapsed": false,
    "pycharm": {
     "name": "#%%\n"
    }
   }
  },
  {
   "cell_type": "code",
   "execution_count": 93,
   "outputs": [
    {
     "data": {
      "text/plain": "tensor([ -5.9689,  -9.6149,   6.6723,   1.0935,  -0.2792,   1.1015,  10.2444,\n         -3.3599, -17.8951, -16.1808])"
     },
     "execution_count": 93,
     "metadata": {},
     "output_type": "execute_result"
    }
   ],
   "source": [
    "test_logits[0]"
   ],
   "metadata": {
    "collapsed": false,
    "pycharm": {
     "name": "#%%\n"
    }
   }
  },
  {
   "cell_type": "code",
   "execution_count": 94,
   "outputs": [
    {
     "data": {
      "text/plain": "tensor([ -5.9689,  -9.6149,   6.6723,   1.0935,  -0.2792,   1.1015,  10.2444,\n         -3.3599, -17.8951, -16.1808])"
     },
     "execution_count": 94,
     "metadata": {},
     "output_type": "execute_result"
    }
   ],
   "source": [
    "logits[0]"
   ],
   "metadata": {
    "collapsed": false,
    "pycharm": {
     "name": "#%%\n"
    }
   }
  },
  {
   "cell_type": "code",
   "execution_count": 95,
   "outputs": [
    {
     "name": "stdout",
     "output_type": "stream",
     "text": [
      "37\n",
      "85\n",
      "121\n",
      "158\n",
      "208\n",
      "254\n",
      "291\n",
      "333\n",
      "374\n",
      "418\n",
      "464\n",
      "501\n",
      "546\n",
      "593\n",
      "635\n",
      "667\n",
      "709\n",
      "756\n",
      "792\n",
      "835\n",
      "879\n",
      "923\n",
      "961\n",
      "1004\n",
      "1044\n",
      "1083\n",
      "1127\n",
      "1171\n",
      "1218\n",
      "1258\n",
      "1298\n",
      "1337\n",
      "1384\n",
      "1427\n",
      "1467\n",
      "1510\n",
      "1551\n",
      "1594\n",
      "1639\n",
      "1682\n",
      "1723\n",
      "1760\n",
      "1805\n",
      "1843\n",
      "1887\n",
      "1927\n",
      "1968\n",
      "2010\n",
      "2050\n",
      "2096\n",
      "2131\n",
      "2169\n",
      "2211\n",
      "2255\n",
      "2293\n",
      "2338\n",
      "2381\n",
      "2426\n",
      "2470\n",
      "2511\n",
      "2549\n",
      "2588\n",
      "2630\n",
      "2678\n",
      "2716\n",
      "2761\n",
      "2810\n",
      "2853\n",
      "2891\n",
      "2924\n",
      "2963\n",
      "3004\n",
      "3042\n",
      "3084\n",
      "3124\n",
      "3164\n",
      "3210\n",
      "3248\n",
      "3291\n",
      "3335\n",
      "3372\n",
      "3414\n",
      "3456\n",
      "3494\n",
      "3534\n",
      "3577\n",
      "3624\n",
      "3663\n",
      "3700\n",
      "3735\n",
      "3774\n",
      "3820\n",
      "3864\n",
      "3905\n",
      "3942\n",
      "3989\n",
      "4025\n",
      "4070\n",
      "4114\n",
      "4152\n",
      "4201\n",
      "4244\n",
      "4288\n",
      "4325\n",
      "4362\n",
      "4400\n",
      "4445\n",
      "4484\n",
      "4521\n",
      "4559\n",
      "4602\n",
      "4650\n",
      "4694\n",
      "4734\n",
      "4772\n",
      "4809\n",
      "4849\n",
      "4895\n",
      "4943\n",
      "4976\n",
      "5013\n",
      "5052\n",
      "5096\n",
      "5136\n",
      "5175\n",
      "5212\n",
      "5251\n",
      "5293\n",
      "5338\n",
      "5374\n",
      "5415\n",
      "5456\n",
      "5497\n",
      "5536\n",
      "5573\n",
      "5616\n",
      "5658\n",
      "5704\n",
      "5745\n",
      "5788\n",
      "5828\n",
      "5874\n",
      "5911\n",
      "5956\n",
      "6002\n",
      "6042\n",
      "6077\n",
      "6119\n",
      "6157\n",
      "6201\n",
      "6238\n",
      "6282\n",
      "6319\n",
      "6359\n",
      "6404\n",
      "6450\n",
      "6457\n",
      "0.6457\n"
     ]
    }
   ],
   "source": [
    "with torch.no_grad():\n",
    "    net.eval()\n",
    "\n",
    "    count = 0\n",
    "    for X_batch, Y_batch in valloader:\n",
    "        X_batch, Y_batch = X_batch.to(device), Y_batch.to(device)\n",
    "        logits = net(X_batch)\n",
    "        Y_pred = torch.argmax(logits, dim=1)\n",
    "        correct = torch.sum(Y_pred == Y_batch).cpu().numpy()\n",
    "        count += correct\n",
    "print(count / 10000)"
   ],
   "metadata": {
    "collapsed": false,
    "pycharm": {
     "name": "#%%\n"
    }
   }
  },
  {
   "cell_type": "code",
   "execution_count": 97,
   "outputs": [
    {
     "name": "stdout",
     "output_type": "stream",
     "text": [
      "2.027048634116057 0.6457\n"
     ]
    }
   ],
   "source": [
    "with torch.no_grad():\n",
    "    net.eval()\n",
    "    loss, acc = get_loss_acc(net, valloader, nn.CrossEntropyLoss())\n",
    "print(loss, acc)"
   ],
   "metadata": {
    "collapsed": false,
    "pycharm": {
     "name": "#%%\n"
    }
   }
  },
  {
   "cell_type": "code",
   "execution_count": null,
   "outputs": [],
   "source": [],
   "metadata": {
    "collapsed": false,
    "pycharm": {
     "name": "#%%\n"
    }
   }
  },
  {
   "cell_type": "code",
   "execution_count": null,
   "outputs": [],
   "source": [],
   "metadata": {
    "collapsed": false,
    "pycharm": {
     "name": "#%%\n"
    }
   }
  },
  {
   "cell_type": "code",
   "execution_count": null,
   "outputs": [],
   "source": [],
   "metadata": {
    "collapsed": false,
    "pycharm": {
     "name": "#%%\n"
    }
   }
  },
  {
   "cell_type": "code",
   "execution_count": null,
   "outputs": [],
   "source": [],
   "metadata": {
    "collapsed": false,
    "pycharm": {
     "name": "#%%\n"
    }
   }
  }
 ],
 "metadata": {
  "kernelspec": {
   "display_name": "Python 3",
   "language": "python",
   "name": "python3"
  },
  "language_info": {
   "codemirror_mode": {
    "name": "ipython",
    "version": 2
   },
   "file_extension": ".py",
   "mimetype": "text/x-python",
   "name": "python",
   "nbconvert_exporter": "python",
   "pygments_lexer": "ipython2",
   "version": "2.7.6"
  }
 },
 "nbformat": 4,
 "nbformat_minor": 0
}